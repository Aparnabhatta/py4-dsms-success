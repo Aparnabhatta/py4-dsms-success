{
  "cells": [
    {
      "cell_type": "markdown",
      "metadata": {
        "id": "view-in-github",
        "colab_type": "text"
      },
      "source": [
        "<a href=\"https://colab.research.google.com/github/csbell-vu/py4-dsms-success/blob/main/3_functions_and_apis.ipynb\" target=\"_parent\"><img src=\"https://colab.research.google.com/assets/colab-badge.svg\" alt=\"Open In Colab\"/></a>"
      ]
    },
    {
      "cell_type": "markdown",
      "metadata": {
        "id": "mMBdFRMzYuea"
      },
      "source": [
        "# Functions and APIs\n",
        "> Expanding things Python \"Already Knows\"\n",
        "\n",
        "In the last lesson, we learned about Google Colab, Python, and built-in data types and data structures. We talked about how there are some tasks/instructions/data that Python already knows how to do, and then others which we need to tell Python about. Today, we'll learn the syntax and grammar of how to communicate higher-order tasks to Python.\n",
        "\n",
        "## Lesson Objectives\n",
        "At the end of today's lesson, you should be able to:\n",
        "* Describe the purpose of a function\n",
        "* Describe the different input/output relationships of functions\n",
        "* Write a function\n",
        "* Describe what it means to install packages/modules/libraries\n",
        "* Describe what it means to import packages/modules/libraries\n",
        "* Use an API to accomplish a task\n",
        "\n",
        "Let's get started!"
      ]
    },
    {
      "cell_type": "markdown",
      "metadata": {
        "id": "42ZeCQ35Zzy5"
      },
      "source": [
        "# What are functions?\n",
        "\n",
        "A function is essentially a programming apparatus which:\n",
        "* Optionally receives some data as inputs\n",
        "* Performs some operation\n",
        "* Optionally returns some values\n",
        "\n",
        "What? \n",
        "\n",
        "One can conceptualize a function to objects we use in everyday life. Let's explore an example of an oven.\n",
        "\n",
        "<center>\n",
        "<img src=\"https://live.staticflickr.com/65535/49670670063_9ca1e9ac31_b.jpg\" width=\"600\">\n",
        "</center>\n",
        "\n",
        "Describe how you use an oven."
      ]
    },
    {
      "cell_type": "code",
      "execution_count": null,
      "metadata": {
        "cellView": "form",
        "id": "G8n9U0cpbrfT"
      },
      "outputs": [],
      "source": [
        "#@title Writing an Oven Function\n",
        "#@markdown Let's begin to codify how one might write an oven function.\n",
        "\n",
        "#@markdown **Description.** What will the oven function do (in plain words)?\n",
        "oven_description = \"\" #@param {type:\"string\"}\n",
        "\n",
        "#@markdown **Function Name.** What would you like to call this oven function? It should be descriptive but concise.\n",
        "function_name = \"\" #@param {type:\"string\"}\n",
        "\n",
        "#@markdown **Parameters.** What things affect how the oven cooks the food?\n",
        "oven_input_parameters = \"\" #@param {type:\"string\"}\n",
        "\n",
        "#@markdown **Main object.** What food will be passed in?\n",
        "oven_main_object = \"\" #@param {type:\"string\"}\n",
        "\n",
        "#@markdown **Outputs.** What will be returned from the oven after cooking?\n",
        "oven_outputs = \"\" #@param {type:\"string\"}\n",
        "\n",
        "#@markdown **Oven Behavior.** What does the oven itself need to do to cook the food? You can write something short,\n",
        "#@markdown and broad, given that writing how an oven works sounds terrible.\n",
        "oven_behavior = \"\" #@param {type:\"string\"}\n",
        "\n"
      ]
    },
    {
      "cell_type": "markdown",
      "metadata": {
        "id": "6SbRaSdseooj"
      },
      "source": [
        "If you've filled out the previous form, you've got all the components necessary to actually write an oven function. Now, you just need the syntax and grammar of how to communicate it to Python. The syntax for a function looks like this, using your defined parameters above:\n",
        "\n",
        "```\n",
        "# def, paretheses, commas, and colon are syntax elements to communicate a function\n",
        "def function_name(oven_main_object, oven_input_parameters):\n",
        "  '''\n",
        "  oven_description\n",
        "  '''\n",
        "  \n",
        "  #lines of code operating on the oven_main_object and using the oven_input_parameters, note indentation\n",
        "  oven_behavior\n",
        "\n",
        "  #'return' keyword communicates the object(s) to be returned\n",
        "  return oven_outputs\n",
        "```\n",
        "\n",
        "Let's try this with code...."
      ]
    },
    {
      "cell_type": "code",
      "execution_count": null,
      "metadata": {
        "id": "CtovnLxdfp6A"
      },
      "outputs": [],
      "source": [
        "# A function to cook in oven\n"
      ]
    },
    {
      "cell_type": "code",
      "execution_count": null,
      "metadata": {
        "cellView": "form",
        "id": "NGExBd4fuXv1"
      },
      "outputs": [],
      "source": [
        "#@markdown Run the cell above. What happened? What did you expect to happen?\n",
        "\n",
        "#@markdown Click `Show Code` below for an explanation.\n",
        "\n",
        "#Answer\n",
        "#Nothing appeared to happen, but the code was merely stored in the kernel to be used later.\n",
        "#When you buy an oven, is the food automatically cooked? No, you have to intentionally apply the\n",
        "#oven to something."
      ]
    },
    {
      "cell_type": "markdown",
      "metadata": {
        "id": "plfrDnIFxuXF"
      },
      "source": [
        "## Calling the oven function\n",
        "Let's actually use the oven. Let's see how we can do this."
      ]
    },
    {
      "cell_type": "code",
      "execution_count": null,
      "metadata": {
        "id": "QWgOi8sIx56x"
      },
      "outputs": [],
      "source": [
        "#set parameters and inputs for cooking\n",
        "\n",
        "#call function and get returned result\n"
      ]
    },
    {
      "cell_type": "markdown",
      "metadata": {
        "id": "jkiF_FxJz447"
      },
      "source": [
        "## Setting default parameters and keywords\n",
        "It can sometimes be pretty annoying to specify long lists of configuration/parameter settings in the input. Thinking of digital ovens, they often come with default settings when you turn them on, e.g.:\n",
        "* The default temperature is 350\n",
        "* The default time is 20 minutes\n",
        "* The default rack is the 3rd rack.\n",
        "\n",
        "Can we mirror this behavior into a function?"
      ]
    },
    {
      "cell_type": "code",
      "execution_count": null,
      "metadata": {
        "id": "FSVhS74bz4fg"
      },
      "outputs": [],
      "source": [
        "# We can change the following code to have default value for parameters\n",
        "def cook_in_oven(food_to_cook, time, temperature, rack):\n",
        "  '''\n",
        "  Function cook_in_oven: cooks input food based on oven parameters\n",
        "    food_to_cook: String indicating the food to be cooked\n",
        "    time: Integer of the time required to cook the food\n",
        "    temperature: Integer temperature at which food should be cooked\n",
        "    rack: Integer of rack that the food should be cooked at\n",
        "\n",
        "    returns: string of food, if cooked, returns '- Cooked!' appended to the string\n",
        "  '''\n",
        "\n",
        "  #cook food, an example\n",
        "  if time>20 and temperature>215:\n",
        "    food_to_cook = food_to_cook + ' - Cooked!'\n",
        "  \n",
        "  return food_to_cook"
      ]
    },
    {
      "cell_type": "code",
      "execution_count": null,
      "metadata": {
        "id": "kp7tdViI0X4C"
      },
      "outputs": [],
      "source": [
        "# Try our new function\n"
      ]
    },
    {
      "cell_type": "markdown",
      "metadata": {
        "id": "x9v9jqGdyhXj"
      },
      "source": [
        "Fantastic. We learned that a function:\n",
        "* does something\n",
        "* can have inputs\n",
        "* can have outputs\n",
        "* should be defined in memory\n",
        "* must be called on something to operate\n",
        "\n",
        "Let's try a real example."
      ]
    },
    {
      "cell_type": "markdown",
      "metadata": {
        "id": "b2KFnmXPXcBg"
      },
      "source": [
        "## Practical Examples"
      ]
    },
    {
      "cell_type": "markdown",
      "metadata": {
        "cellView": "form",
        "id": "4_215NO1Z7rs"
      },
      "source": [
        "## Guided Example\n",
        "\n",
        "In this example, we'll create functions out of previous examples. Recall our function which performed a \"clamp\" function, meaning that if the value was above the max, it was set to the max values. Let's implement this as a function."
      ]
    },
    {
      "cell_type": "code",
      "execution_count": null,
      "metadata": {
        "id": "tiXDvSU3c1bQ"
      },
      "outputs": [],
      "source": [
        "#define function\n"
      ]
    },
    {
      "cell_type": "code",
      "execution_count": null,
      "metadata": {
        "id": "RhAs9E16dEkC"
      },
      "outputs": [],
      "source": [
        "# Demo for Answer 2\n"
      ]
    },
    {
      "cell_type": "code",
      "execution_count": null,
      "metadata": {
        "cellView": "form",
        "id": "BdtNT76wzBkr"
      },
      "outputs": [],
      "source": [
        "#@title In-class Exercise - Try it yourself!\n",
        "#@markdown Recall our function which returned an integer reflecting the integer class of the dog. Let's turn this into a function.\n",
        "#@markdown The code has been included for you below.\n",
        "#@markdown\n",
        "#@markdown ```\n",
        "#@markdown dog_class = []\n",
        "#@markdown for dog_breed in dog_data['breed']:\n",
        "#@markdown     if 'Toy' in dog_breed:\n",
        "#@markdown         dog_class.append(0)\n",
        "#@markdown     elif 'American' in dog_breed or 'Australian' in dog_breed or 'Afghan' in dog_breed:\n",
        "#@markdown         dog_class.append(1)\n",
        "#@markdown     else:\n",
        "#@markdown         dog_class.append(2)\n",
        "#@markdown ```\n",
        "#@markdown\n",
        "#@markdown Your function should take a single string of a dog breed and return the appropriate integer for the class.\n",
        "\n",
        "def get_dog_class(dog_breed):\n",
        "    if 'Toy' in dog_breed:\n",
        "        dog_class = 0\n",
        "    elif 'American' in dog_breed or 'Australian' in dog_breed or 'Afghan' in dog_breed:\n",
        "        dog_class = 1\n",
        "    else:\n",
        "        dog_class = 2\n",
        "    \n",
        "    return dog_class"
      ]
    },
    {
      "cell_type": "code",
      "execution_count": null,
      "metadata": {
        "id": "tnCTTX27nRUs"
      },
      "outputs": [],
      "source": [
        "# function for dog breed\n"
      ]
    },
    {
      "cell_type": "code",
      "execution_count": null,
      "metadata": {
        "id": "kkHQNQZxnRUs"
      },
      "outputs": [],
      "source": [
        "# test case\n",
        "breeds = ['American Bulldog', 'Australian Shepherd', 'Toy Doodle', 'Wheaten Terrier']\n"
      ]
    },
    {
      "cell_type": "markdown",
      "metadata": {
        "id": "GALCY1t-dlYU"
      },
      "source": [
        "# API Structure"
      ]
    },
    {
      "cell_type": "markdown",
      "metadata": {
        "id": "TCtSVP_yxWmW"
      },
      "source": [
        "## Functions, Methods, and Classes\n",
        "We just now wrote our own function, but Python is chocked full of lots of different built-in functions that you can already use! We just now used some:\n",
        "* `print()`\n",
        "* `lower()`\n",
        "\n",
        "And saw several others in Python's API for math operations and strings.\n",
        "\n",
        "Most strictly speaking, the code we just wrote was a function, but when we call \"operations\" relevant to the object they're working on, this is called a _method_. This distinction matters to the extent to which you can capitalize upon this knowledge.\n",
        "\n",
        "What? I know, that was a confusing statement, so lets take an example.\n",
        "\n",
        "<center>\n",
        "<figure>\n",
        "<img src=\"https://github.com/vanderbilt-data-science/p4ai-essentials/blob/main/img/oven_class.png?raw=true\" width=\"600\"/>\n",
        "<figcaption>Not all methods should apply to all objects. Sometimes, it helps for the specification of a particular object to come grouped with its attributes as well.</figcaption>\n",
        "</figure>\n",
        "</center>\n"
      ]
    },
    {
      "cell_type": "markdown",
      "metadata": {
        "id": "TroHymrdxReH"
      },
      "source": [
        "\n",
        "## Packages and Libraries\n",
        "This leads to the practical structuring of tons of functions and classes. These tend to take shape through **packages**, **libraries**, **modules**, and **classes**.\n",
        "\n",
        "<center>\n",
        "<table>\n",
        "  <tr>\n",
        "    <th>Package  Hierarchy  Model</th>\n",
        "    <th>Kitchen Package Application</th>\n",
        "  </tr>\n",
        "  <tr>\n",
        "    <th><img style=\"vertical-align: bottom;\" src=\"https://github.com/vanderbilt-data-science/p4ai-essentials/blob/main/img/class_package_hierarchy.png?raw=true\" width=100% /></th>\n",
        "    <th><img style=\"vertical-align: bottom;\" src=\"https://github.com/vanderbilt-data-science/p4ai-essentials/blob/main/img/kitchen_package_hierarchy.png?raw=true\" width=100% /></th>\n",
        "  </tr>\n",
        "</table>\n",
        "</center>"
      ]
    },
    {
      "cell_type": "markdown",
      "metadata": {
        "id": "H8Hkqoq5fEpi"
      },
      "source": [
        "## APIs\n",
        "\n",
        "APIs define the way in which you can programmatically interact with a codebase, server, etc. It's essentially a contract outlining:\n",
        "* The available tasks that can be done by the framework and the names these operations are called by\n",
        "* The required and optional inputs to these operations\n",
        "* The required and optional outputs from these operations.\n",
        "\n",
        "APIs often come in the form of **libraries**, **packages**, and **modules**. Libraries are a great way of quickly infusing Python with LOTS more functionality.\n",
        "\n",
        "<center>\n",
        "<figure>\n",
        "<img src=\"https://cdn.mos.cms.futurecdn.net/GSkcxRqtHam58T5URwTN7c-1024-80.jpg.webp\" width=\"300\"/>\n",
        "<figcaption>Image from livescience.com</figcaption>\n",
        "</figure>\n",
        "</center>\n",
        "\n",
        "I always think of importing modules similarly to this scene in The Matrix. Information \"packages\" on how to fly a helicopter or kung fu are downloaded instantly into the user's \"kernel\". Then, we need to use the functions from these packages.\n",
        "\n",
        "Datacamp has familiarized you with numpy; we'll start there!"
      ]
    },
    {
      "cell_type": "markdown",
      "metadata": {
        "id": "JPi719RCZB9h"
      },
      "source": [
        "# Guided Exploration of Numpy API\n",
        "\n",
        "We can see that most of the time, we see code that looks sort of like functions. We see the \"contract\" components of the new functions that are available to us - the function name, the inputs required and available, and the outputs. Let's experiment with them!"
      ]
    }
  ],
  "metadata": {
    "colab": {
      "collapsed_sections": [
        "42ZeCQ35Zzy5",
        "GALCY1t-dlYU",
        "JPi719RCZB9h",
        "5SsaRk_Hexv1",
        "DEUqTeCvliTC"
      ],
      "name": "2_functions_and_apis_solns.ipynb",
      "provenance": [],
      "toc_visible": true,
      "include_colab_link": true
    },
    "kernelspec": {
      "display_name": "Python 3 (ipykernel)",
      "language": "python",
      "name": "python3"
    },
    "language_info": {
      "codemirror_mode": {
        "name": "ipython",
        "version": 3
      },
      "file_extension": ".py",
      "mimetype": "text/x-python",
      "name": "python",
      "nbconvert_exporter": "python",
      "pygments_lexer": "ipython3",
      "version": "3.7.13"
    }
  },
  "nbformat": 4,
  "nbformat_minor": 0
}