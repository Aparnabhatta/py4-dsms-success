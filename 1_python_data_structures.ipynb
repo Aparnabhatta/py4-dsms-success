{
 "cells": [
  {
   "cell_type": "markdown",
   "metadata": {
    "colab_type": "text",
    "id": "view-in-github"
   },
   "source": [
    "<a href=\"https://colab.research.google.com/github/csbell-vu/py4-dsms-success/blob/main/1_python_data_structures.ipynb\"  target=\"_parent\"><img src=\"https://colab.research.google.com/assets/colab-badge.svg\" alt=\"Open In Colab\"/></a>"
   ]
  },
  {
   "cell_type": "markdown",
   "metadata": {
    "id": "63sdkoOBbZOY"
   },
   "source": [
    "# Introduction to Python Programming with Google Colab\n",
    "> An overview of the user interface to the kernel\n",
    "\n",
    "## Lesson Objectives\n",
    "At the end of this lesson, you should be able to:\n",
    "1. Provide a high-level description of interactions with the Python kernel\n",
    "2. Identify and use the relevant features of Google Colab and Jupyter Notebooks\n",
    "  * How to create a code cell\n",
    "  * How to create a markdown cell\n",
    "  * How to execute or render a cell\n",
    "3. Create and explain the use of literate programming\n",
    "4. Conceptually understand, explain, create, and use standard Python data structures\n",
    "  * Lists\n",
    "  * Dictionaries\n",
    "  * Tuples\n",
    "  * Sets*\n",
    "5. Conceptually understand, explain, create, and use conditional execution\n",
    "6. Conceptually understand, explain, create, and use functions\n",
    "7. Conceptually understand, explain, create, and use for loops for iteration\n",
    "\n",
    "Let's get started!"
   ]
  },
  {
   "cell_type": "markdown",
   "metadata": {
    "id": "RSIS2NnG6PyP"
   },
   "source": [
    "# Introduction to Google Colab\n",
    "Google Colab facilitates literate programming, meaning that it's not just code and code comments. We can narrate, as you see here! Double click this cell to inspect what markdown notation looks like!"
   ]
  },
  {
   "cell_type": "code",
   "execution_count": null,
   "metadata": {
    "id": "OVOgv6U46cFo"
   },
   "outputs": [],
   "source": [
    "# This is a code cell. This line is a comment. To execute this cell (provide information and/or instruction to our kernel \"child\"),\n",
    "# use the arrow on the LHS of the cell. Click it now!"
   ]
  },
  {
   "cell_type": "markdown",
   "metadata": {
    "id": "qJB6bRxQ8RNX"
   },
   "source": [
    "That's right, nothing of importance happened. We didn't give it any information or instruction. It essentially just received a blank fax. We'll come back to this.\n",
    "\n",
    "Let's look at some other tools provided by Google Colab before we get into the Python Language:\n",
    "* Hovering over the bottom of the cell provides options to create a new code cell or a new text/markdown cell\n",
    "* Shift + Enter executes the cell (without having to move your hands to the mouse/touchpad to click run)\n",
    "* If you ever want to Run cells in a certain way, for example all cells without executing them individually, check out the `Runtime` tab.\n",
    "\n",
    "There is also some functionality we won't talk about here, but message us and we'll make a separate session given enough demand. For example:\n",
    "* Mounting Google Drive (allowing you access to your cloud/shared data/documents)\n",
    "* Using scratchpads\n",
    "* Connecting to a local Jupyter runtime (Colab is in the cloud on far away machines; you could also connect it to your lab machine instead!)"
   ]
  },
  {
   "cell_type": "markdown",
   "metadata": {
    "id": "OX-7DwiOddrr"
   },
   "source": [
    "# How does this programming thing work?\n",
    "Let's start with something that we know - telling a child how to make a peanut butter and jelly sandwich!\n",
    "\n",
    "<center>\n",
    "<img src=\"https://live.staticflickr.com/28/59516971_393af81183_h.jpg\" width=\"200\">\n",
    "\n",
    "Imagine in this moment that a child calls you on the phone and asks you to guide them through making a peanut butter and jelly sandwich. What items do they need? What instructions do you give?"
   ]
  },
  {
   "cell_type": "code",
   "execution_count": null,
   "metadata": {
    "cellView": "form",
    "id": "oRAEc2sFeYQ-"
   },
   "outputs": [],
   "source": [
    "#@title Your Answer { vertical-output: true }\n",
    "#@markdown **Items needed**:\n",
    "item_1 = \"\" #@param {type:\"string\"}\n",
    "item_2 = \"\" #@param {type:\"string\"}\n",
    "item_3 = \"\" #@param {type:\"string\"}\n",
    "\n",
    "#@markdown **List of steps**:\n",
    "step_1 = \"\" #@param {type:\"string\"}\n",
    "step_2 = \"\" #@param {type:\"string\"}\n",
    "step_3 = \"\" #@param {type:\"string\"}\n",
    "step_4 = \"\" #@param {type:\"string\"}\n",
    "\n",
    "#@markdown Why is this a meaningful exercise?\n",
    "#@markdown Let's examine.\n",
    "#@markdown [Oof! Hang in there for a moment of lecture-style instruction!]\n"
   ]
  },
  {
   "cell_type": "markdown",
   "metadata": {
    "id": "lOO3dQmj9AN3"
   },
   "source": [
    "# Things Python Already Knows:\n",
    "Let's explore \"providing instructions\" and \"providing information\". As we said, there are things that the child \"knows of\" and \"knows how to do\" already. We've already seen that Python understands:\n",
    "* Data types (int, float, string, complex, Boolean, etc.)\n",
    "* Functions and methods related to data types\n",
    "* Relationships between values (i.e., comparison)\n",
    "* Data structures such as lists.\n",
    "\n",
    "We'll start with other helpful datastructures that Python already knows."
   ]
  },
  {
   "cell_type": "markdown",
   "metadata": {
    "id": "wqRWwy7nAF_B"
   },
   "source": [
    "# Things Python Already Knows: Aggregated Data Elements (Collections)\n",
    "\n",
    "We've already reviewed lists..."
   ]
  },
  {
   "cell_type": "markdown",
   "metadata": {
    "id": "cc5WpI22Abe7"
   },
   "source": [
    "## Lists\n",
    "Think of the hallway of an office building you're just visiting. I can think of at least 2 ways to name each of the individual offices:\n",
    "\n",
    "1. **Represent each object individually**: We can use what we've already learned and give each office an individual variable name.\n",
    "1. **Represent each object as a part of another object**: We could choose to represent all offices of a floor as a batch (single collection), and reference each object by its position on the floor.\n",
    "\n",
    "Let's compare these approaches:\n",
    "<center>\n",
    "<img src=\"https://github.com/vanderbilt-data-science/p4ai-essentials/blob/main/img/list_type_comparison.png?raw=true\" width=\"800\">\n",
    "</center>\n",
    "\n",
    "How do we do this in code? You'll have to take my word for it to start off with, but Python offers great functionality related to the list data structure as opposed to manipulating single elements. Let's check it out."
   ]
  },
  {
   "cell_type": "markdown",
   "metadata": {
    "id": "9oipPsrK31u0"
   },
   "source": [
    "### Creating Lists\n",
    "Below, we will learn the _syntax_ and _language_ to speak with Python and it understand its tasks to complete."
   ]
  },
  {
   "cell_type": "code",
   "execution_count": null,
   "metadata": {
    "id": "l70-JbPeI3Dm"
   },
   "outputs": [],
   "source": [
    "# How do we make a list?\n",
    "\n",
    "# How do we make a list of lists?\n",
    "\n",
    "# How did we understand what was the first room on the floor1\n"
   ]
  },
  {
   "cell_type": "markdown",
   "metadata": {
    "id": "gS4FXbUm2l3c",
    "tags": []
   },
   "source": [
    "### Built-in Functionality\n",
    "> Iteration"
   ]
  },
  {
   "cell_type": "code",
   "execution_count": null,
   "metadata": {
    "colab": {
     "base_uri": "https://localhost:8080/"
    },
    "id": "sUHxNq2UKbX0",
    "outputId": "64dcd8b4-c860-4d40-ed80-3df18de79b4f"
   },
   "outputs": [],
   "source": [
    "# How can we iterate over all values in the list?\n"
   ]
  },
  {
   "cell_type": "markdown",
   "metadata": {
    "id": "eXMZeBSi4drM"
   },
   "source": [
    "### Iteration helpers you'll see frequently\n",
    "We'll go over this in more detail in a later class, but the following functions are helpful, particularly in iteration:\n",
    "* `enumerate`: returns both the index (position) in the list and the list value\n",
    "* `len`: returns the length of the list\n",
    "* `range`: returns a sequence of numbers (e.g., 1-4)\n",
    "\n",
    "Make sure to take a look at these in depth tonight for your homework."
   ]
  },
  {
   "cell_type": "code",
   "execution_count": null,
   "metadata": {
    "colab": {
     "base_uri": "https://localhost:8080/"
    },
    "id": "LRtyoWf0KiQN",
    "outputId": "fdb11c93-bbc2-4d70-8bc0-dabe6358c913"
   },
   "outputs": [],
   "source": [
    "# What else is something nice that we can do with that list data structure?\n"
   ]
  },
  {
   "cell_type": "code",
   "execution_count": null,
   "metadata": {
    "colab": {
     "base_uri": "https://localhost:8080/"
    },
    "id": "FpKukDqlK1ut",
    "outputId": "333b4966-8c2c-43f2-fc92-93f4516c87d8"
   },
   "outputs": [],
   "source": [
    "# What else can we do with that list data structure?\n"
   ]
  },
  {
   "cell_type": "code",
   "execution_count": null,
   "metadata": {
    "colab": {
     "base_uri": "https://localhost:8080/"
    },
    "id": "PfXp_YIaLGFA",
    "outputId": "20fd6d73-5f42-41bb-b752-9de7981222f5"
   },
   "outputs": [],
   "source": [
    "# What if I needed to change the definition of an element?\n",
    "for position in range(len(floor0)):\n",
    "\n",
    "  # Room position 2 becomes a janitor closet\n",
    "  if position==2:\n",
    "    floor0[position] = 'janitor closet'\n",
    "  print(position, floor0[position])"
   ]
  },
  {
   "cell_type": "markdown",
   "metadata": {
    "id": "vohrFh74JeYn"
   },
   "source": [
    "One thing to remember about lists is that lists are **ordered**, that is, they are in a specific sequence and are ALWAYS in that sequence unless you change it."
   ]
  },
  {
   "cell_type": "markdown",
   "metadata": {},
   "source": [
    "### Question - \n",
    "Is there anything you found lacking about these lists, practically speaking? When you look for a location on Google Maps, do you put in the index of a building, or something else?"
   ]
  },
  {
   "cell_type": "markdown",
   "metadata": {
    "id": "nhorE6i5Lbe9"
   },
   "source": [
    "## Dictionaries\n",
    "Think of dictionaries as exactly what the word implies - a dictionary. How do you use a dictionary?\n",
    "\n",
    "Dictionaries are a set of `keys` (the words) and `values` (the definitions) organized as `key`-`value` pairs. You use a word in a dictionary to look up its value.\n",
    "\n",
    "Let's return to our hallway example.\n",
    "<center>\n",
    "<img src=\"https://github.com/vanderbilt-data-science/p4ai-essentials/blob/main/img/dictionary_elements.png?raw=true\" width=\"800\">\n",
    "</center>\n",
    "\n",
    "We know that although a list structure _can_ represent this data, the ordered list isn't actually the _best_ representation we can get. But intuitively, we think of a _room number_ as defining what is in the room. We can use a dictionary to help us with this. Let's check that out."
   ]
  },
  {
   "cell_type": "markdown",
   "metadata": {
    "id": "ZZHiflSx2ZvM"
   },
   "source": [
    "### Creating dictionaries"
   ]
  },
  {
   "cell_type": "code",
   "execution_count": null,
   "metadata": {
    "colab": {
     "base_uri": "https://localhost:8080/"
    },
    "id": "6Er3i1yWPYZb",
    "outputId": "fcb211e6-3e40-471f-cc5e-653f7f74d64f"
   },
   "outputs": [],
   "source": [
    "# What is the syntax for creating a dictionary?\n"
   ]
  },
  {
   "cell_type": "code",
   "execution_count": null,
   "metadata": {
    "cellView": "form",
    "id": "Aj-HBtIaXDeD"
   },
   "outputs": [],
   "source": [
    "# Using dict function\n",
    "floor0_dict = dict({'001':'judge chambers',\n",
    "              '002':'jury entrance',\n",
    "              '003':'janitor closet',\n",
    "              '004':'general entrance',\n",
    "              '005':'gender-neutral restroom'})\n",
    "\n",
    "#Using a list of tuples, i.e., a list of pairs of elements\n",
    "floor0_dict = dict([('001', 'judge chambers'),\n",
    "               ('002', 'jury entrance'),\n",
    "               ('003', 'janitor closet'),\n",
    "               ('004', 'general entrance'),\n",
    "               ('005', 'gender-neutral restroom')])\n",
    "\n",
    "floor0_dict"
   ]
  },
  {
   "cell_type": "markdown",
   "metadata": {
    "id": "bQpvID3L2eyj"
   },
   "source": [
    "### Retrieving elements of dictionaries"
   ]
  },
  {
   "cell_type": "code",
   "execution_count": null,
   "metadata": {
    "colab": {
     "base_uri": "https://localhost:8080/",
     "height": 53
    },
    "id": "U_pzs3KGSG13",
    "outputId": "34dcfcf2-ef48-4161-e08f-3543f6471959"
   },
   "outputs": [],
   "source": [
    "# How do we use our dictionaries?\n",
    "\n",
    "\n",
    "# What if we want to know what's in room 005?\n"
   ]
  },
  {
   "cell_type": "markdown",
   "metadata": {},
   "source": [
    "### Dictionaries with nested elements\n",
    "Wondering about how we could use this with multiple building floors? Let's check it out."
   ]
  },
  {
   "cell_type": "code",
   "execution_count": null,
   "metadata": {},
   "outputs": [],
   "source": [
    "#create dictionary with multiple nested structures\n"
   ]
  },
  {
   "cell_type": "code",
   "execution_count": null,
   "metadata": {},
   "outputs": [],
   "source": [
    "# how do we get the value 'crisis center' returned to us?\n"
   ]
  },
  {
   "cell_type": "code",
   "execution_count": null,
   "metadata": {},
   "outputs": [],
   "source": [
    "# What's an easy way to create a dictionary from a set of lists?\n"
   ]
  },
  {
   "cell_type": "code",
   "execution_count": null,
   "metadata": {},
   "outputs": [],
   "source": [
    "\n"
   ]
  },
  {
   "cell_type": "code",
   "execution_count": null,
   "metadata": {},
   "outputs": [],
   "source": [
    "# now, how do we get what room is '103B'?\n"
   ]
  },
  {
   "cell_type": "markdown",
   "metadata": {
    "id": "gS4FXbUm2l3c",
    "tags": []
   },
   "source": [
    "### Built-in Functionality\n",
    "> Iteration, Keys, and Values"
   ]
  },
  {
   "cell_type": "code",
   "execution_count": null,
   "metadata": {
    "colab": {
     "base_uri": "https://localhost:8080/"
    },
    "id": "Fizs0MycSfFe",
    "outputId": "bddeb525-9742-4a4d-8e83-29ed6b1379bb"
   },
   "outputs": [],
   "source": [
    "# we can use the dictionary for simple iteration over keys\n"
   ]
  },
  {
   "cell_type": "code",
   "execution_count": null,
   "metadata": {
    "colab": {
     "base_uri": "https://localhost:8080/"
    },
    "id": "Q879MjTWStjX",
    "outputId": "bb6a3f34-8c49-4479-e222-6175b3d5405d"
   },
   "outputs": [],
   "source": [
    "# We can also iterate over the values by using the built-in values function for dictionaries\n"
   ]
  },
  {
   "cell_type": "code",
   "execution_count": null,
   "metadata": {
    "colab": {
     "base_uri": "https://localhost:8080/"
    },
    "id": "PqzsrjzpTE9X",
    "outputId": "7a0cf78f-4a13-4873-b737-694223485a15"
   },
   "outputs": [],
   "source": [
    "# We can also use the built in items function to retrieve key, value pairs\n"
   ]
  },
  {
   "cell_type": "markdown",
   "metadata": {
    "id": "kxRiCFR1JpYI"
   },
   "source": [
    "One thing to remember about dictionaries is that dictionaries are **unordered**. The example above shows that the iteration returns the results in the order that we declared them in; but this is not the rule. It just so happens that this occurred, but **order in a dictionary should not be necesssary for code to behave appropriately.** There are different data structures if you need ordered key-value functionality."
   ]
  },
  {
   "cell_type": "markdown",
   "metadata": {
    "id": "3Z41BmK2TOmF"
   },
   "source": [
    "# Practical Application: Try it Yourself!\n",
    "You've just now learned (and seen) some of the most fundamental functionality in Python! Now, let's see some practical applications.\n",
    "\n",
    "The following exercises relate to the following scenario:\n",
    "\n",
    "Let's say that you're trying to perform classification. Most packages represent any given class as an integer number. However, you'd like to make sure that you can always relate a class \"number\" (usually called an `id`) to the human interpretation of a string.\n",
    "\n",
    "For example:\n",
    "* The `0` class represents `soil`\n",
    "* The `1` class represents `volcanic ash`\n",
    "* The `2` class represents `glass`\n",
    "* The `3` class represents `sand`\n",
    "\n",
    "Essentially, you're trying to make a simple \"lookup table\" called using the syntax we've learned. We'll call this lookup table `id2label`. Let's explore how the skills we've learned can contribute to this task.\n"
   ]
  },
  {
   "cell_type": "code",
   "execution_count": null,
   "metadata": {
    "cellView": "form",
    "id": "9e3FcerjVHH2"
   },
   "outputs": [],
   "source": [
    "#@title Exercise 1: Create class id list\n",
    "#@markdown Create a `list` named `class_ids` in the cell below with the numbers 0, 1, 2, and 3 representing the integers of your class.\n",
    "#@markdown If you're confused, click the `Show Code` button below for the answer.\n",
    "\n",
    "class_ids = [0,1,2,3] "
   ]
  },
  {
   "cell_type": "code",
   "execution_count": null,
   "metadata": {
    "id": "eeilyTr6WEch"
   },
   "outputs": [],
   "source": [
    "# Create a list called class_ids for Exercise 1\n"
   ]
  },
  {
   "cell_type": "code",
   "execution_count": null,
   "metadata": {
    "id": "rYT9dAgcTnWp"
   },
   "outputs": [],
   "source": [
    "#@title Exercise 2: Create class names list\n",
    "#@markdown Create a `list` called `class_names` with the values\n",
    "#@markdown `soil`, `volcanic ash`, `glass`, and `sand`. If you're confused,\n",
    "#@markdown click the `Show Code` button below for the answer.\n",
    "\n",
    "class_names = ['soil', 'volcanic ash', 'glass', 'sand']"
   ]
  },
  {
   "cell_type": "code",
   "execution_count": null,
   "metadata": {
    "id": "jobHiuREWXQP"
   },
   "outputs": [],
   "source": [
    "# Create a list called class_names for Exercise 2\n"
   ]
  },
  {
   "cell_type": "code",
   "execution_count": null,
   "metadata": {
    "cellView": "form",
    "colab": {
     "base_uri": "https://localhost:8080/"
    },
    "id": "ntSh1VIpZB-G",
    "outputId": "ed91dd2f-c754-4ed4-b730-5a8ddcce4516"
   },
   "outputs": [],
   "source": [
    "#@title Exercise 3: Expand your knowledge\n",
    "#@markdown Create a dictionary from the lists above using the `dict` function for dictionaries and a new function called `zip()`.\n",
    "#@markdown If you already know how to use `zip` and `dict`, feel free to skip the example below and\n",
    "#@markdown write your answer in the cell below.\n",
    "\n",
    "#@markdown The `zip` function reorganizes a set of lists by collating the elements across all the lists based on their positions.\n",
    "\n",
    "#@markdown What? Here's an example:\n",
    "#@markdown ```\n",
    "#@markdown numbers_list = [12, 13, 14]\n",
    "#@markdown letters_list = ['a', 'b', 'c']\n",
    "#@markdown \n",
    "#@markdown nl_zip = zip(numbers_list, letters_list)\n",
    "#@markdown ```\n",
    "\n",
    "#@markdown Although nl_list will be a `zip` object, it allows us to easily do things with it. For example:\n",
    "\n",
    "#@markdown ```\n",
    "#@markdown nl_dict = dict(nl_zip)\n",
    "#@markdown ```\n",
    "\n",
    "#@markdown will create a dictionary object for `nl_dict` with the following contents:\n",
    "#@markdown ```\n",
    "#@markdown nl_dict = {12:'a', 13:'b', 14:'c'}\n",
    "#@markdown ```\n",
    "\n",
    "#@markdown Thus, the `numbers_list` values became the set of keys of the dictionary, and the `letters_list` values became the values of the dictionary.\n",
    "\n",
    "#@markdown *** \n",
    "#@markdown\n",
    "#@markdown Consider that you need to do the same thing as above with your `class_ids`\n",
    "#@markdown list and your `class_names` list. You want to use\n",
    "#@markdown your `class_ids` list as the keys for your dictionary\n",
    "#@markdown and your `class_names` as the values.\n",
    "\n",
    "#@markdown Using the code above as a reference, create a dictionary called\n",
    "#@markdown `id2label` using the `dict` and `zip` functionality\n",
    "#@markdown shown above. If you need some help, click the `Show Code` button below.\n",
    "\n",
    "id2label = dict(zip(class_ids, class_names))\n",
    "id2label"
   ]
  },
  {
   "cell_type": "code",
   "execution_count": null,
   "metadata": {
    "id": "yVj13oSFecCo"
   },
   "outputs": [],
   "source": [
    "# Create a list called class_names for Exercise 3\n"
   ]
  },
  {
   "cell_type": "code",
   "execution_count": null,
   "metadata": {
    "cellView": "form",
    "colab": {
     "base_uri": "https://localhost:8080/",
     "height": 35
    },
    "id": "BB13x2pWZqL2",
    "outputId": "f6d43439-cc62-4c29-d80d-3a5dd408543e"
   },
   "outputs": [],
   "source": [
    "#@title Exercise 4: Use your dictionary\n",
    "#@markdown You run your code and it says that you have a 93%\n",
    "#@markdown for class id 2. Programmatically determine what the name\n",
    "#@markdown of that class is. Click the `Show Code` button\n",
    "#@markdown below if you get stuck.\n",
    "\n",
    "id2label[2]"
   ]
  },
  {
   "cell_type": "code",
   "execution_count": null,
   "metadata": {
    "id": "ob2f8TXzYKnG"
   },
   "outputs": [],
   "source": [
    "# Create a list called class_names for Exercise 4\n"
   ]
  },
  {
   "cell_type": "markdown",
   "metadata": {
    "id": "clS0YDh5h_ZJ"
   },
   "source": [
    "# Congratulations!\n",
    "\n",
    "Congratulations! You've made it through your first day crash course of Python! Today, you've learned:\n",
    "* Main tools of using Google Colab\n",
    "* The Python kernel and interpreter is running behind Google Colab and running code cells interacts with it, putting values and functions in memory for Python to process\n",
    "* Some things, Python already knows, and some things you have to tell it to do. You learned to leverage some of the built-in things it already knows how to do, such as:\n",
    "  * **Basic data elements** such as integers, floats strings, and Booleans\n",
    "  * **Basic data manipulation** like basic math operations and comparison\n",
    "  * **Powerful data structures** such as lists and dictionaries\n",
    "\n",
    "In tomorrow's class, we'll learn the language of talking with Python to tell it how to execute modularized, resuable code, and how we can rapidly expand its knowledgebase by using packages.\n"
   ]
  },
  {
   "cell_type": "markdown",
   "metadata": {
    "id": "wWd0j0YtzaxI"
   },
   "source": [
    "\n",
    "\n",
    "---\n",
    "\n"
   ]
  },
  {
   "cell_type": "markdown",
   "metadata": {
    "id": "oICyZ1fljKwd"
   },
   "source": [
    "# Homework\n",
    "Before tomorrow's class, you should cement this information in your mind and let it marinate and sink into your brain. Here are a few conceptual and applied questions to help you more fully understand what we've done today."
   ]
  },
  {
   "cell_type": "markdown",
   "metadata": {
    "id": "3yauXkLJjZCp"
   },
   "source": [
    "## Programming Practice\n",
    "Let's practice just a bit with basic data elements, lists, and dictionaries."
   ]
  },
  {
   "cell_type": "code",
   "execution_count": null,
   "metadata": {
    "cellView": "form",
    "id": "id5RndLfltNn"
   },
   "outputs": [],
   "source": [
    "#@title Question 1: Strings\n",
    "#@markdown Before, we observed that we can add together numbers, like\n",
    "#@markdown floats and integers. But, we can also use the `+` operator with strings.\n",
    "#@markdown Let's observe this behavior.\n",
    "\n",
    "#@markdown 1. Create a string variable called `file_name` with the value `data/img_1`.  \n",
    "#@markdown 2. Create a string variable called `extension` with the value `.png`.\n",
    "#@markdown 3. Use the `+` operator to \"add\" these two variables behavior and store it as the variable `full_filename`.\n",
    "#@markdown 4. Output (using print or just output) `full_filename` to verify its contents.\n",
    "#@markdown 5. Comment on the behavior.\n",
    "\n",
    "#@markdown Use the next cell for your answers. Click the\n",
    "#@markdown `Show Code` button to check your answers.\n",
    "\n",
    "#1\n",
    "file_name = 'data/img_1'\n",
    "\n",
    "#2\n",
    "extension = '.png'\n",
    "\n",
    "#2\n",
    "full_filename = file_name + extension\n",
    "\n",
    "#4\n",
    "full_filename\n",
    "\n",
    "#5\n",
    "# The `+` operator on two strings has the effect of concatenating\n",
    "# them together.\n"
   ]
  },
  {
   "cell_type": "code",
   "execution_count": null,
   "metadata": {
    "id": "21Qo3cnfnqkt"
   },
   "outputs": [],
   "source": [
    "#Answers to Question 1\n"
   ]
  },
  {
   "cell_type": "code",
   "execution_count": null,
   "metadata": {
    "cellView": "form",
    "colab": {
     "base_uri": "https://localhost:8080/"
    },
    "id": "AjFquRgkocyP",
    "outputId": "bf41aab0-6a6f-4e38-95a6-debf95ba8bc4"
   },
   "outputs": [],
   "source": [
    "#@title Question 2: Dictionaries\n",
    "#@markdown In Exercise 3, we created an `id2label` variable which allowed us to look\n",
    "#@markdown up class names based on their class ID. Now, let's do the reverse.\n",
    "\n",
    "#@markdown 1. Create a `label2id` variable which allows us to look up\n",
    "#@markdown the IDs of the class given the class name.\n",
    "#@markdown 2. Show the dictionary contents (via print or just output) to confirm\n",
    "#@markdown its contents\n",
    "#@markdown 3. What is the class ID of the `volcanic ash` class? Find this programmatically.\n",
    "\n",
    "#@markdown Use the cell below for your answer, and click `Show Code`\n",
    "#@markdown to check your answers. Note that if you've already created (and executed)\n",
    "#@markdown the creation of the lists elsewhere in the code, you don't need\n",
    "#@markdown to create those two lists again.\n",
    "\n",
    "#1\n",
    "class_ids = [0,1,2,3]\n",
    "class_labels  = ['soil', 'volcanic ash', 'glass', 'sand']\n",
    "label2id = dict(zip(class_labels, class_ids))\n",
    "\n",
    "#2\n",
    "print(label2id)\n",
    "\n",
    "#3\n",
    "label2id['volcanic ash']"
   ]
  },
  {
   "cell_type": "code",
   "execution_count": null,
   "metadata": {
    "id": "L8KchozHqBBz"
   },
   "outputs": [],
   "source": [
    "#Answers to Question 2"
   ]
  },
  {
   "cell_type": "code",
   "execution_count": null,
   "metadata": {
    "cellView": "form",
    "id": "ratLgf5-5S0B"
   },
   "outputs": [],
   "source": [
    "#@title Question 3: Variable Names and Strings\n",
    "#@markdown Answer the following questions by experimentation.\n",
    "#@markdown Note the errors that you get are sometimes not clear, so think about\n",
    "#@markdown them and their relation to the code you have written.\n",
    "#@markdown 1. Can a variable name start with a number?\n",
    "#@markdown 2. Can a variable name have a dash in it?\n",
    "#@markdown 3. Can a variable name have a space in it?\n",
    "#@markdown 4. Can a variable name have an underscore in it?\n",
    "\n",
    "#@markdown Use the `Show Code` button to check your answers.\n",
    "\n",
    "#1 - Variable name cannot start with number\n",
    "#0dog = 8 #(uncomment to see behavior)\n",
    "\n",
    "#2 - Variable name cannot have a dash in it\n",
    "#cat-dog = 7 #(uncomment to see behavior)\n",
    "\n",
    "#3 - Variable name cannot have a space in it\n",
    "#cat dog = 7 #(uncomment to see behavior)\n",
    "\n",
    "#4 - Variable name CAN have underscores\n",
    "cat_dog = 7"
   ]
  },
  {
   "cell_type": "markdown",
   "metadata": {
    "id": "wU1vzlPAq0bE"
   },
   "source": [
    "Use this markdown cell to answer Question 3."
   ]
  },
  {
   "cell_type": "markdown",
   "metadata": {
    "id": "8boafNuwqtbX"
   },
   "source": [
    "## Conceptual and Thought Questions"
   ]
  },
  {
   "cell_type": "code",
   "execution_count": null,
   "metadata": {
    "cellView": "form",
    "id": "_cgloc41vN5U"
   },
   "outputs": [],
   "source": [
    "#@title Question 4: Lists, conceptual\n",
    "#@markdown Earlier in the lesson, we said that you'd have to take our word for it\n",
    "#@markdown that lists offer enhanced functionality to deal with collections of related\n",
    "#@markdown objects. Then, we demonstrated `for` loops and `if` statements which leverage\n",
    "#@markdown the collection object (list) for iteration. Let's take this moment for you\n",
    "#@markdown to demonstrate for yourself the power of collections rather than individual\n",
    "#@markdown objects. Click the `Show Code` button to show additional insights after answering\n",
    "#@markdown the following questions.\n",
    "\n",
    "#@markdown 1. How would you have made separate objects for each of the courtroom\n",
    "#@markdown rooms?\n",
    "#@markdown 2. Consider that we used a `for` loop to iterate through and print each\n",
    "#@markdown of the rooms. How would we do this with separate objects?\n",
    "#@markdown 3. This was 5 rooms that we looped over. Consider this single-object approach\n",
    "#@markdown vs the collection (list) approach that we presented. What are your thoughts on\n",
    "#@markdown scaling the code to 100 rooms. For example, if you wanted to print the list of\n",
    "#@markdown rooms for all 100 rooms, what would that code look like for the single-object\n",
    "#@markdown approach vs the list approach?\n",
    "\n",
    "#1\n",
    "floor0_room0 = 'judge_chambers'\n",
    "floor0_room1 = 'jury_entrance'\n",
    "floor0_room2 = 'janitor_closet'\n",
    "floor0_room3 = 'general_entrance'\n",
    "floor0_room4 = 'gender-neutral restroom'\n",
    "\n",
    "#2\n",
    "print(floor0_room0)\n",
    "print(floor0_room1)\n",
    "print(floor0_room2)\n",
    "print(floor0_room3)\n",
    "print(floor0_room4)\n",
    "\n",
    "#3\n",
    "#The single-object approach would make us write that print statement\n",
    "#100 times for each room, and is simply terrible in terms of scaling\n",
    "#and maintaining code. In fact, only the code for creating the list\n",
    "#of rooms would change in the collections case, and the code to print\n",
    "#all of the rooms would be identical."
   ]
  },
  {
   "cell_type": "markdown",
   "metadata": {
    "id": "HWINMvM3sqH_"
   },
   "source": [
    "Use this markdown cell to answer Question 4."
   ]
  },
  {
   "cell_type": "code",
   "execution_count": null,
   "metadata": {
    "cellView": "form",
    "id": "4GlLONvsqLOa"
   },
   "outputs": [],
   "source": [
    "#@title Question 5: Dictionaries, conceptual\n",
    "#@markdown Consider the zipping that we just performed. It appears to be correct because\n",
    "#@markdown the order of one list exactly matched the order of the other. If you were to\n",
    "#@markdown accidentally switch the order of one, would the class labels and class ids\n",
    "#@markdown match as you wanted them? Click the\n",
    "#@markdown `Show Code` button to check your answer.\n",
    "\n",
    "# No. They will be out of the order that you wanted.\n"
   ]
  },
  {
   "cell_type": "markdown",
   "metadata": {
    "id": "yuGhCzEZFkYl"
   },
   "source": [
    "Use this markdown cell to answer Question 5."
   ]
  },
  {
   "cell_type": "code",
   "execution_count": null,
   "metadata": {
    "cellView": "form",
    "id": "pvWPor4X8ubs"
   },
   "outputs": [],
   "source": [
    "#@title Question 6: Dictionary Data Types\n",
    "#@markdown Consider the dictionary that we created for our courtroom\n",
    "#@markdown room numbers, where a single key/value pair was defined as `'001':'judge chambers'`.\n",
    "#@markdown Answer the following questions below, and use the `Show Code` button\n",
    "#@markdown to check your answers.\n",
    "\n",
    "#@markdown 1. Instead of using the string `'001'`, could we have used the integer value `001` in\n",
    "#@markdown our dictionary?\n",
    "#@markdown 2. Why might we choose to use the string `'001'` as the key rather than the integer `1`?\n",
    "#@markdown 3. We have established that variable names cannot contain spaces. Why can `judge chambers`\n",
    "#@markdown have a space in it?\n",
    "\n",
    "#1 No; syntax rules do not allow leading 0 for integer key\n",
    "#test = {001:'judge chambers'} #uncomment to show result\n",
    "\n",
    "#2\n",
    "#If the key is semantically the room number, 1 is semantically incorrect\n",
    "#and could be misleading and is technically incorrect.\n",
    "\n",
    "#3\n",
    "#'judge chambers' is STRICTLY a STRING LITERAL and NOT a variable name.\n",
    "#Strings can and do certainly have any number of characters that\n",
    "#variable names are not allowed to have. Draw a distinction between strings\n",
    "#(a data type) and a variable name (represents an object).\n"
   ]
  },
  {
   "cell_type": "markdown",
   "metadata": {
    "id": "gecfn0BCFoGN"
   },
   "source": [
    "Use this markdown cell to answer Question 6."
   ]
  },
  {
   "cell_type": "code",
   "execution_count": null,
   "metadata": {
    "cellView": "form",
    "id": "gjLGaNMdq59g"
   },
   "outputs": [],
   "source": [
    "#@title Question 7: Dictionaries vs Lists\n",
    "#@markdown Under what circumstances might you prefer a list\n",
    "#@markdown to a dictionary and vice versa? Use the `Show Code`\n",
    "#@markdown button to see some considerations.\n",
    "\n",
    "#Lists\n",
    "#Lists are advantageous when the order is significant or sets of\n",
    "#lists will be in the same order and you want to put them together.\n",
    "#They're also advantageous when it's not necessarily the order/position\n",
    "#that is meaningful and they have a single value of interest. This is in\n",
    "#contrast to dictionaries where the order is also not meaningful,\n",
    "#but it has two meaningful components: the keys and the values.\n",
    "\n",
    "#Dictionaries\n",
    "#Dictionaries are advantageous when a key is useful as an \"index\", or\n",
    "#the value useful to look something up. A great example is\n",
    "#our hallway example, where we might want an actual \"address\" rather\n",
    "#than an arbitrary position on the road. Note that there is also a such\n",
    "#thing as an ordered dictionary available through Python in case\n",
    "#order is significant but the \"dictionary\" nature is desirable to be\n",
    "#maintained."
   ]
  },
  {
   "cell_type": "markdown",
   "metadata": {
    "id": "-HDyOESXszAb"
   },
   "source": [
    "Use this markdown cell to answer Question 7."
   ]
  },
  {
   "cell_type": "code",
   "execution_count": null,
   "metadata": {
    "cellView": "form",
    "id": "ObduUXsKssXJ"
   },
   "outputs": [],
   "source": [
    "#@title Question 8: Python Kernel and Colab\n",
    "#@markdown Consider Question 2, where it is possible that the list variables\n",
    "#@markdown are executed earlier in the notebook. Answer the following questions:\n",
    "#@markdown 1. Is it necessary to replicate the creation of these variables\n",
    "#@markdown in the same cell as you put your answer to Question 2? Why or why not?\n",
    "#@markdown 2. If you were to run those original cells at the top, close Google Colab,\n",
    "#@markdown and then reopen it, would you need to run them again?\n",
    "#@markdown 3. Under what circumstances might you replicate code (e.g., creation of the\n",
    "#@markdown lists earlier AND in Question 2)? What advantages does this confer?\n",
    "#@markdown What disadvantages does this have? What do you think the best\n",
    "#@markdown practices would be?\n",
    "\n",
    "#@markdown Click the `Show Code` button to reveal insights on these questions.\n",
    "\n",
    "#1\n",
    "#No, it is not necessary. As long as they have already been executed, they're already\n",
    "#in memory (in the kernel) and available to be referenced and used.\n",
    "\n",
    "#2\n",
    "#Whenever you close Google Colab, you clear out the entirety of Python's working memory.\n",
    "#This means that all of your variables are erased and you start over completely from blank.\n",
    "\n",
    "#3\n",
    "#You may want to replicate code sometimes as a workflow enhancer when you're trying to work\n",
    "#out a bug or incorrect code behavior. This lets you not have to scroll up and down\n",
    "#or execute a bunch of cells just to get to one answer.\n",
    "\n",
    "#This has severe disadvantages, as if you leave this code in, the variables have the\n",
    "#same name and are likely conceptually similar as in the earlier code. It would be VERY\n",
    "#easy to change things in one place and not the other and lead to odd, hard-to-track-down bugs.\n",
    "#Another part of this is that separate places need to be continually synced, and this is\n",
    "#both hard, annoying, and inefficient.\n",
    "\n",
    "#If you have a variable that you will be using everywhere, define it once. If you need to debug,\n",
    "#fine, temporarily replicate (or even move the whole code cell down using the arrows), but make\n",
    "#sure to update this as soon as you can. Bugs are terrible."
   ]
  },
  {
   "cell_type": "markdown",
   "metadata": {
    "id": "tAXr5KrnzV99"
   },
   "source": [
    "Use this markdown cell to answer Question 8."
   ]
  }
 ],
 "metadata": {
  "colab": {
   "authorship_tag": "ABX9TyPDTC3d4B/CLcsQKv8VJFS5",
   "collapsed_sections": [
    "RSIS2NnG6PyP",
    "OX-7DwiOddrr",
    "lOO3dQmj9AN3",
    "wqRWwy7nAF_B",
    "eXMZeBSi4drM",
    "3Z41BmK2TOmF",
    "oICyZ1fljKwd"
   ],
   "include_colab_link": true,
   "name": "1_python_data_structures",
   "provenance": [],
   "toc_visible": true
  },
  "kernelspec": {
   "display_name": "Python 3 (ipykernel)",
   "language": "python",
   "name": "python3"
  },
  "language_info": {
   "codemirror_mode": {
    "name": "ipython",
    "version": 3
   },
   "file_extension": ".py",
   "mimetype": "text/x-python",
   "name": "python",
   "nbconvert_exporter": "python",
   "pygments_lexer": "ipython3",
   "version": "3.7.13"
  }
 },
 "nbformat": 4,
 "nbformat_minor": 4
}
