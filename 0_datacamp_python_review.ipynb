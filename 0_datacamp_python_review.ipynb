{
 "cells": [
  {
   "cell_type": "markdown",
   "metadata": {
    "colab_type": "text",
    "id": "view-in-github"
   },
   "source": [
    "<a href=\"https://colab.research.google.com/github/csbell-vu/py4-dsms-success/blob/main/0_datacamp_python_review.ipynb\" target=\"_parent\"><img src=\"https://colab.research.google.com/assets/colab-badge.svg\" alt=\"Open In Colab\"/></a>"
   ]
  },
  {
   "cell_type": "markdown",
   "metadata": {
    "id": "63sdkoOBbZOY"
   },
   "source": [
    "# Introduction to Python with Google Colab\n",
    "> An overview of the user interface to the kernel\n",
    "\n",
    "## Review Objectives\n",
    "At the end of this lesson, you should generally remember how to:\n",
    "1. Create and use basic Python data types\n",
    "2. Conceptually understand and explain, create, and use standard Python lists\n",
    "3. Recall functions and methods you've already applied\n",
    "\n",
    "Let's get started!"
   ]
  },
  {
   "cell_type": "markdown",
   "metadata": {
    "id": "lOO3dQmj9AN3"
   },
   "source": [
    "# Things Python Already Knows:"
   ]
  },
  {
   "cell_type": "markdown",
   "metadata": {
    "id": "ylQXpnde_Xi4"
   },
   "source": [
    "## Python already knows about some data types...\n",
    "Python already knows a specific set of basic data types and knows how to interact with them in some somewhat expected ways. Let's check some out."
   ]
  },
  {
   "cell_type": "code",
   "execution_count": null,
   "metadata": {
    "colab": {
     "base_uri": "https://localhost:8080/"
    },
    "id": "MY7g9R-U_gsW",
    "outputId": "791d55a6-12f2-47e3-e9cd-cd1436971098"
   },
   "outputs": [
    {
     "name": "stdout",
     "output_type": "stream",
     "text": [
      "14\n",
      "The data is long\n",
      "11.8\n"
     ]
    }
   ],
   "source": [
    "# It gets what numbers are and common things we do with them\n",
    "print(7 + 7)\n",
    "\n",
    "# It can work with text/string data\n",
    "print('The data is ' + 'long')\n",
    "\n",
    "# It can automatically navigate (some) different data types\n",
    "print(2.8 + 9)"
   ]
  },
  {
   "cell_type": "markdown",
   "metadata": {
    "id": "nZKzPF3n_-2I"
   },
   "source": [
    "## And we can abstract the values to be represented as variables..."
   ]
  },
  {
   "cell_type": "code",
   "execution_count": null,
   "metadata": {
    "id": "SwFgJVeF8Qrs"
   },
   "outputs": [],
   "source": [
    "# Numbers\n",
    "var_integer = 7\n",
    "var_float = 0.22\n",
    "\n",
    "# Strings\n",
    "var_string = 'the dog is cute'"
   ]
  },
  {
   "cell_type": "code",
   "execution_count": null,
   "metadata": {
    "colab": {
     "base_uri": "https://localhost:8080/"
    },
    "id": "jc1t6obO-ywz",
    "outputId": "830dccae-ca0e-4c51-ee7b-4a8c624571b5"
   },
   "outputs": [
    {
     "data": {
      "text/plain": [
       "['In',\n",
       " 'Out',\n",
       " '_',\n",
       " '__',\n",
       " '___',\n",
       " '__builtin__',\n",
       " '__builtins__',\n",
       " '__doc__',\n",
       " '__loader__',\n",
       " '__name__',\n",
       " '__package__',\n",
       " '__spec__',\n",
       " '_dh',\n",
       " '_i',\n",
       " '_i1',\n",
       " '_ih',\n",
       " '_ii',\n",
       " '_iii',\n",
       " '_oh',\n",
       " '_sh',\n",
       " 'exit',\n",
       " 'get_ipython',\n",
       " 'quit']"
      ]
     },
     "execution_count": 1,
     "metadata": {},
     "output_type": "execute_result"
    }
   ],
   "source": [
    "dir()"
   ]
  },
  {
   "cell_type": "markdown",
   "metadata": {
    "id": "uPAXWaqovg5a"
   },
   "source": [
    "These are some of the variables that are already populated and \"saved\" in the kernel. Let's see what happens when we actually execute the cells.\n",
    "\n",
    "Press the arrow next to the cell which defines some of our different variable types. Then, run the following cell."
   ]
  },
  {
   "cell_type": "code",
   "execution_count": null,
   "metadata": {
    "colab": {
     "base_uri": "https://localhost:8080/"
    },
    "id": "z3Zv8k8cwGij",
    "outputId": "c74aaceb-74ea-4d23-bef2-2b0c9f2c7952"
   },
   "outputs": [
    {
     "data": {
      "text/plain": [
       "['In',\n",
       " 'Out',\n",
       " '_',\n",
       " '_1',\n",
       " '__',\n",
       " '___',\n",
       " '__builtin__',\n",
       " '__builtins__',\n",
       " '__doc__',\n",
       " '__loader__',\n",
       " '__name__',\n",
       " '__package__',\n",
       " '__spec__',\n",
       " '_dh',\n",
       " '_i',\n",
       " '_i1',\n",
       " '_i2',\n",
       " '_i3',\n",
       " '_ih',\n",
       " '_ii',\n",
       " '_iii',\n",
       " '_oh',\n",
       " '_sh',\n",
       " 'exit',\n",
       " 'get_ipython',\n",
       " 'quit',\n",
       " 'var_float',\n",
       " 'var_integer',\n",
       " 'var_string']"
      ]
     },
     "execution_count": 3,
     "metadata": {},
     "output_type": "execute_result"
    }
   ],
   "source": [
    "dir()"
   ]
  },
  {
   "cell_type": "markdown",
   "metadata": {
    "id": "Qd8ePLiLwKOp"
   },
   "source": [
    "Notice the new information in your kernel! These variables have been \"saved\" into your kernel and are now new pieces of information to be referenced. This is the fundamental operation of the kernel. Keep in mind two things:\n",
    "\n",
    "1. Notice that the execution/output of the first `dir()` code cell did not change. This reflects the outputs and the state of the kernel at the time that you ran the cell.\n",
    "2. Now, we can use these _objects_ that we've saved!\n",
    "\n",
    "One way of \"using\" these objects is just to see their values. Let's check out what this looks like:"
   ]
  },
  {
   "cell_type": "code",
   "execution_count": null,
   "metadata": {
    "colab": {
     "base_uri": "https://localhost:8080/"
    },
    "id": "vy114njmwMFM",
    "outputId": "3b9dbd16-336f-4346-a2e1-c40f79dd6fdb"
   },
   "outputs": [
    {
     "data": {
      "text/plain": [
       "0.22"
      ]
     },
     "execution_count": 6,
     "metadata": {},
     "output_type": "execute_result"
    }
   ],
   "source": [
    "var_float"
   ]
  },
  {
   "cell_type": "markdown",
   "metadata": {
    "id": "b09dkmG1xN-Z"
   },
   "source": [
    "## Python can already do basic math operations...\n",
    "Beyond the datatypes and what they mean, Python already knows several types of math/set operations. Let's check it out. A great reference can be found in the [Python Reference API](https://docs.python.org/3/library/stdtypes.html#numeric-types-int-float-complex)."
   ]
  },
  {
   "cell_type": "code",
   "execution_count": null,
   "metadata": {
    "colab": {
     "base_uri": "https://localhost:8080/"
    },
    "id": "aJ4Z-a_JwuTg",
    "outputId": "4f11cc38-8ce2-4517-f742-ce88215f34cd"
   },
   "outputs": [
    {
     "data": {
      "text/plain": [
       "7.22"
      ]
     },
     "execution_count": 7,
     "metadata": {},
     "output_type": "execute_result"
    }
   ],
   "source": [
    "# Add together our float and our integer value\n",
    "var_float + var_integer"
   ]
  },
  {
   "cell_type": "code",
   "execution_count": null,
   "metadata": {
    "colab": {
     "base_uri": "https://localhost:8080/"
    },
    "id": "BeyxECJWxb2l",
    "outputId": "c7ca6922-0e97-4387-ba6a-403ebda9f4e4"
   },
   "outputs": [
    {
     "data": {
      "text/plain": [
       "0.03142857142857143"
      ]
     },
     "execution_count": 2,
     "metadata": {},
     "output_type": "execute_result"
    }
   ],
   "source": [
    "# Subtract var_integer from var_float\n",
    "var_float - var_integer\n",
    "\n",
    "# Multiply var_integer with var_float\n",
    "var_float * var_integer\n",
    "\n",
    "# Quotient of var_float divided by var_integer\n",
    "var_float / var_integer"
   ]
  },
  {
   "cell_type": "code",
   "execution_count": null,
   "metadata": {
    "colab": {
     "base_uri": "https://localhost:8080/"
    },
    "id": "wT0_EI3GxmrR",
    "outputId": "f82286ca-3377-4a09-a9ec-5822c65433fe"
   },
   "outputs": [
    {
     "name": "stdout",
     "output_type": "stream",
     "text": [
      "0.0\n",
      "0.22\n"
     ]
    }
   ],
   "source": [
    "# Floored quotient of `var_float` and `var_integer`\n",
    "print(var_float//var_integer)\n",
    "\n",
    "# The remainder of `var_float` divided by `var_integer`\n",
    "print(var_float % var_integer)"
   ]
  },
  {
   "cell_type": "markdown",
   "metadata": {
    "id": "KZSMwj8c9542"
   },
   "source": [
    "## Python already knows how to compare values...\n",
    "We can see similar built-in behavior with comparisons. Let's quickly also check those out. We will again use the [Python library reference on Comparisons here.](https://docs.python.org/3/library/stdtypes.html#comparisons)"
   ]
  },
  {
   "cell_type": "code",
   "execution_count": null,
   "metadata": {
    "colab": {
     "base_uri": "https://localhost:8080/"
    },
    "id": "ZcA73kxX-diX",
    "outputId": "a181f15b-620c-4aa9-e759-d3462365b749"
   },
   "outputs": [
    {
     "data": {
      "text/plain": [
       "False"
      ]
     },
     "execution_count": 4,
     "metadata": {},
     "output_type": "execute_result"
    }
   ],
   "source": [
    "#Determine if one value is larger than another\n",
    "var_float > var_integer"
   ]
  },
  {
   "cell_type": "code",
   "execution_count": null,
   "metadata": {
    "colab": {
     "base_uri": "https://localhost:8080/"
    },
    "id": "FuB75o4y-kmo",
    "outputId": "262b63a0-b354-4bfa-a928-f7ed700fcac5"
   },
   "outputs": [
    {
     "name": "stdout",
     "output_type": "stream",
     "text": [
      "False\n"
     ]
    },
    {
     "data": {
      "text/plain": [
       "True"
      ]
     },
     "execution_count": 5,
     "metadata": {},
     "output_type": "execute_result"
    }
   ],
   "source": [
    "#Determine whether a numerical object is equal to another\n",
    "print(var_float == var_integer)\n",
    "\n",
    "#Determine inequality\n",
    "var_float != var_integer"
   ]
  },
  {
   "cell_type": "markdown",
   "metadata": {
    "id": "wqRWwy7nAF_B"
   },
   "source": [
    "# Things Python Already Knows: Aggregated Data Elements (Collections)\n",
    "\n",
    "Beyond single variables, we often want to be able to treat related values as components of a single variable as a _collection_. What the heck does that mean? Let's check out two built-in data structures.\n"
   ]
  },
  {
   "cell_type": "markdown",
   "metadata": {
    "id": "cc5WpI22Abe7"
   },
   "source": [
    "## Lists\n",
    "Think of the hallway of an office building you're just visiting. I can think of at least 2 ways to name each of the individual offices:\n",
    "\n",
    "1. **Represent each object individually**: We can use what we've already learned and give each office an individual variable name.\n",
    "1. **Represent each object as a part of another object**: We could choose to represent all offices of a floor as a batch (single collection), and reference each object by its position on the floor.\n",
    "\n",
    "Let's compare these approaches:\n",
    "<center>\n",
    "<img src=\"https://github.com/vanderbilt-data-science/p4ai-essentials/blob/main/img/list_type_comparison.png?raw=true\" width=\"800\">\n",
    "</center>\n",
    "\n",
    "How do we do this in code? You'll have to take my word for it to start off with, but Python offers great functionality related to the list data structure as opposed to manipulating single elements. Let's check it out."
   ]
  },
  {
   "cell_type": "markdown",
   "metadata": {
    "id": "9oipPsrK31u0"
   },
   "source": [
    "### Creating Lists\n",
    "Below, we will learn the _syntax_ and _language_ to speak with Python and it understand its tasks to complete."
   ]
  },
  {
   "cell_type": "code",
   "execution_count": 2,
   "metadata": {
    "id": "l70-JbPeI3Dm"
   },
   "outputs": [],
   "source": [
    "# How do we make a list?\n",
    "floor0 = ['judge chambers', 'jury entrance', 'media entrance', 'general entrance', 'gender-neutral restroom']"
   ]
  },
  {
   "cell_type": "markdown",
   "metadata": {
    "id": "D0BNQT4O34up"
   },
   "source": [
    "### Retrieving elements of lists"
   ]
  },
  {
   "cell_type": "code",
   "execution_count": 2,
   "metadata": {
    "colab": {
     "base_uri": "https://localhost:8080/",
     "height": 53
    },
    "id": "wqeTtQaeKJ33",
    "outputId": "ecac8e2c-ab93-4cdd-caea-5e18a794cacf"
   },
   "outputs": [
    {
     "name": "stdout",
     "output_type": "stream",
     "text": [
      "judge chambers\n"
     ]
    },
    {
     "data": {
      "text/plain": [
       "'media entrance'"
      ]
     },
     "execution_count": 2,
     "metadata": {},
     "output_type": "execute_result"
    }
   ],
   "source": [
    "# How do we index to get 'judge chambers'?\n",
    "floor0[0]"
   ]
  },
  {
   "cell_type": "markdown",
   "metadata": {},
   "source": [
    "What are two ways to index to return `gender-neutral restroom`?"
   ]
  },
  {
   "cell_type": "code",
   "execution_count": 4,
   "metadata": {
    "colab": {
     "base_uri": "https://localhost:8080/"
    },
    "id": "sUHxNq2UKbX0",
    "outputId": "64dcd8b4-c860-4d40-ed80-3df18de79b4f"
   },
   "outputs": [
    {
     "name": "stdout",
     "output_type": "stream",
     "text": [
      "gender-neutral restroom\n"
     ]
    },
    {
     "data": {
      "text/plain": [
       "'gender-neutral restroom'"
      ]
     },
     "execution_count": 4,
     "metadata": {},
     "output_type": "execute_result"
    }
   ],
   "source": [
    "# How can we index to get 'gender-neutral restroom?'\n",
    "print(floor0[4])\n",
    "\n",
    "# What other way can we index to get 'gender-neutral restroom'?\n",
    "floor0[-1]"
   ]
  },
  {
   "cell_type": "code",
   "execution_count": 18,
   "metadata": {},
   "outputs": [
    {
     "name": "stdout",
     "output_type": "stream",
     "text": [
      "['general entrance', 'gender-neutral restroom']\n",
      "['general entrance', 'gender-neutral restroom']\n",
      "['general entrance', 'gender-neutral restroom']\n"
     ]
    }
   ],
   "source": [
    "#@title Exercise: Remembering how to slice and dice lists\n",
    "#@markdown What are 3 ways to get the last 2 elements of the floor0 list?\n",
    "#@markdown click the `Show Code` button below for the answer.\n",
    "\n",
    "print(floor0[3:5])\n",
    "\n",
    "print(floor0[3:])\n",
    "\n",
    "print(floor0[-2:])"
   ]
  },
  {
   "cell_type": "markdown",
   "metadata": {},
   "source": [
    "#### Retrieving elements from lists of lists"
   ]
  },
  {
   "cell_type": "code",
   "execution_count": 3,
   "metadata": {},
   "outputs": [
    {
     "data": {
      "text/plain": [
       "[['judge chambers',\n",
       "  'jury entrance',\n",
       "  'media entrance',\n",
       "  'general entrance',\n",
       "  'gender-neutral restroom'],\n",
       " ['crisis center',\n",
       "  'housing office',\n",
       "  'credit union',\n",
       "  'dmv',\n",
       "  'sustainability office']]"
      ]
     },
     "execution_count": 3,
     "metadata": {},
     "output_type": "execute_result"
    }
   ],
   "source": [
    "#create first floor info\n",
    "floor1 = ['crisis center', 'housing office', 'credit union', 'dmv', 'sustainability office']\n",
    "\n",
    "# create list of building contents\n",
    "bldg_floors = [floor0, floor1]\n",
    "bldg_floors"
   ]
  },
  {
   "cell_type": "markdown",
   "metadata": {},
   "source": [
    "How can we get the second floor information?"
   ]
  },
  {
   "cell_type": "code",
   "execution_count": 5,
   "metadata": {},
   "outputs": [
    {
     "data": {
      "text/plain": [
       "['crisis center',\n",
       " 'housing office',\n",
       " 'credit union',\n",
       " 'dmv',\n",
       " 'sustainability office']"
      ]
     },
     "execution_count": 5,
     "metadata": {},
     "output_type": "execute_result"
    }
   ],
   "source": [
    "bldg_floors[1]"
   ]
  },
  {
   "cell_type": "markdown",
   "metadata": {},
   "source": [
    "How do we find what the 1st room on floor 1 is?"
   ]
  },
  {
   "cell_type": "code",
   "execution_count": 6,
   "metadata": {},
   "outputs": [
    {
     "data": {
      "text/plain": [
       "'crisis center'"
      ]
     },
     "execution_count": 6,
     "metadata": {},
     "output_type": "execute_result"
    }
   ],
   "source": [
    "bldg_floors[1][0]"
   ]
  },
  {
   "cell_type": "markdown",
   "metadata": {
    "id": "vohrFh74JeYn"
   },
   "source": [
    "One thing to remember about lists is that lists are **ordered**, that is, they are in a specific sequence and are ALWAYS in that sequence unless you change it."
   ]
  },
  {
   "cell_type": "markdown",
   "metadata": {
    "id": "3Z41BmK2TOmF"
   },
   "source": [
    "# Practical Application: Try it Yourself!\n",
    "You've just now learned (and seen) some of the most fundamental functionality in Python! Now, let's see some practical applications.\n",
    "\n",
    "The following exercises relate to the following scenario:\n",
    "\n",
    "Let's say that you're trying to perform classification. Most packages represent any given class as an integer number. However, you'd like to make sure that you can always relate a class \"number\" (usually called an `id`) to the human interpretation of a string.\n",
    "\n",
    "For example:\n",
    "* The `0` class represents `soil`\n",
    "* The `1` class represents `volcanic ash`\n",
    "* The `2` class represents `glass`\n",
    "* The `3` class represents `sand`\n",
    "\n",
    "Essentially, you're trying to make a simple \"lookup table\" called using the syntax we've learned. We'll call this lookup table `id2label`. Let's explore how the skills we've learned can contribute to this task.\n"
   ]
  },
  {
   "cell_type": "code",
   "execution_count": null,
   "metadata": {
    "cellView": "form",
    "id": "9e3FcerjVHH2"
   },
   "outputs": [],
   "source": [
    "#@title Exercise 1: Create class id list\n",
    "#@markdown Create a `list` named `class_ids` in the cell below with the numbers 0, 1, 2, and 3 representing the integers of your class. If you're confused, click the `Show Code` button below for the answer.\n",
    "\n",
    "class_ids = [0,1,2,3] "
   ]
  },
  {
   "cell_type": "code",
   "execution_count": null,
   "metadata": {
    "id": "eeilyTr6WEch"
   },
   "outputs": [],
   "source": [
    "# Create a list called class_ids for Exercise 1\n"
   ]
  },
  {
   "cell_type": "code",
   "execution_count": null,
   "metadata": {
    "id": "rYT9dAgcTnWp"
   },
   "outputs": [],
   "source": [
    "#@title Exercise 2: Create class names list\n",
    "#@markdown Create a `list` called `class_names` with the values\n",
    "#@markdown `soil`, `volcanic ash`, `glass`, and `sand`. If you're confused,\n",
    "#@markdown click the `Show Code` button below for the answer.\n",
    "\n",
    "class_names = ['soil', 'volcanic ash', 'glass', 'sand']"
   ]
  },
  {
   "cell_type": "code",
   "execution_count": null,
   "metadata": {
    "id": "jobHiuREWXQP"
   },
   "outputs": [],
   "source": [
    "# Create a list called class_names for Exercise 2\n"
   ]
  },
  {
   "cell_type": "markdown",
   "metadata": {
    "id": "GALCY1t-dlYU"
   },
   "source": [
    "# API Structure"
   ]
  },
  {
   "cell_type": "markdown",
   "metadata": {
    "id": "TCtSVP_yxWmW"
   },
   "source": [
    "## Functions, Methods, and Classes\n",
    "Python is chocked full of lots of different built-in functions that you can already use! We just now used some:\n",
    "* `print()`\n",
    "* `lower()`\n",
    "\n",
    "And saw several others in Python's API for math operations and strings.\n",
    "\n",
    "You have likely already seen both functions and methods, but when we call \"operations\" relevant to the object they're operating on, this is called a _method_. This distinction matters to the extent to which you can capitalize upon this knowledge."
   ]
  },
  {
   "cell_type": "markdown",
   "metadata": {
    "id": "TroHymrdxReH"
   },
   "source": [
    "\n",
    "## Packages and Libraries\n",
    "This leads to the practical structuring of tons of functions and classes. These tend to take shape through **packages**, **libraries**, **modules**, and **classes**.\n",
    "\n",
    "<center>\n",
    "<table>\n",
    "  <tr>\n",
    "    <th>Package  Hierarchy  Model</th>\n",
    "    <th>Kitchen Package Application</th>\n",
    "  </tr>\n",
    "  <tr>\n",
    "    <th><img style=\"vertical-align: bottom;\" src=\"https://github.com/vanderbilt-data-science/p4ai-essentials/blob/main/img/class_package_hierarchy.png?raw=true\" width=100% /></th>\n",
    "    <th><img style=\"vertical-align: bottom;\" src=\"https://github.com/vanderbilt-data-science/p4ai-essentials/blob/main/img/kitchen_package_hierarchy.png?raw=true\" width=100% /></th>\n",
    "  </tr>\n",
    "</table>\n",
    "</center>"
   ]
  },
  {
   "cell_type": "code",
   "execution_count": 17,
   "metadata": {},
   "outputs": [],
   "source": [
    "#@title Reviewing functions and methods\n",
    "#@markdown We've observed that we can do a number of things with strings and with math operations.\n",
    "#@markdown Answer the following questions based on the [Python API reference for numeric types](https://docs.python.org/3/library/stdtypes.html#numeric-types-int-float-complex)\n",
    "#@markdown and [Python's string reference](https://docs.python.org/3/library/stdtypes.html#string-methods)\n",
    "\n",
    "\n",
    "#@markdown 1. Calculate the absolute value of a variable 'abs_var' with current value = -2.  \n",
    "#@markdown 2. Create a complex number of 3+1.7j? Extra credit: Conjugate it.\n",
    "#@markdown 3. What are some methods I can apply to integers but not to floats? What are some methods I can apply to floats but not integers?\n",
    "#@markdown 4. Determine whether the string \"The cutest dog is named Chickpea\" ends with \"pea\". Determine whether it ends with 'cat'.\n",
    "#@markdown 5. Center the string \"dogs are cute\" in a container of size 30 with padding of \"!\" on both sides.\n",
    "#@markdown 6. Of the operations you've constructed here, which are functions? Which are methods? How can you tell the difference?\n",
    "\n",
    "#@markdown Use the next cell for your answers. Click the\n",
    "#@markdown `Show Code` button to check your answers.\n",
    "\n",
    "#1\n",
    "abs_var = -2\n",
    "abs(abs_var)\n",
    "\n",
    "#2\n",
    "comp_no = complex(3, 1.7)\n",
    "comp_no_conj = comp_no.conjugate()\n",
    "\n",
    "\n",
    "#3\n",
    "# We can apply bit operations on integers as well as bytes functions as shown in the API to integers but not floats.\n",
    "# We can apply is_integer and hex operations to floats but not integers.\n",
    "\n",
    "#4\n",
    "test_str = 'The cutest dog is named Chickpea'\n",
    "pea_test = test_str.endswith('pea')\n",
    "cat_test = test_str.endswith('cat')\n",
    "\n",
    "#5\n",
    "centered_str = 'dogs are cute'.center(30, '!')\n",
    "\n",
    "#6\n",
    "# Functions: abs, complex\n",
    "# Methods: conjugate, endswith, center\n",
    "# Methods are called based on the type of data you're working with.\n",
    "# comp_no.conjugate() demonstrates conjugate is minimally associated with the complex class since it operates on a complex number.\n",
    "# str.ends_with() and str.center() demonstrates \"ends_with\" and \"center\" are minimally associated with the string class since they operate on strings."
   ]
  },
  {
   "cell_type": "code",
   "execution_count": null,
   "metadata": {},
   "outputs": [],
   "source": [
    "# Your answers here\n"
   ]
  },
  {
   "cell_type": "markdown",
   "metadata": {
    "id": "clS0YDh5h_ZJ"
   },
   "source": [
    "# Congratulations!\n",
    "\n",
    "Congratulations! You've made it through the review of Datacamp topicsof Python! Today, you've brused up on:\n",
    "* Some things, Python already knows, and some things you have to tell it to do. You learned to leverage some of the built-in things it already knows how to do, such as:\n",
    "  * **Basic data elements** such as integers, floats strings, and Booleans\n",
    "  * **Basic data manipulation** like basic math operations and comparison\n",
    "  * **Powerful data structures** such as lists\n",
    "  * **Built-in methods** for numeric and string types"
   ]
  },
  {
   "cell_type": "markdown",
   "metadata": {
    "id": "wWd0j0YtzaxI"
   },
   "source": [
    "\n",
    "\n",
    "---\n",
    "\n"
   ]
  },
  {
   "cell_type": "markdown",
   "metadata": {
    "id": "oICyZ1fljKwd"
   },
   "source": [
    "# Homework\n",
    "Before tomorrow's class, you should cement this information in your mind and let it marinate and sink into your brain. Here are a few conceptual and applied questions to help you more fully understand what we've done today."
   ]
  },
  {
   "cell_type": "markdown",
   "metadata": {
    "id": "3yauXkLJjZCp"
   },
   "source": [
    "## Programming Practice\n",
    "Let's practice just a bit with basic data elements, lists, and dictionaries."
   ]
  },
  {
   "cell_type": "code",
   "execution_count": null,
   "metadata": {
    "cellView": "form",
    "id": "id5RndLfltNn"
   },
   "outputs": [],
   "source": [
    "#@title Question 1: Strings\n",
    "#@markdown Before, we observed that we can add together numbers, like\n",
    "#@markdown floats and integers. But, we can also use the `+` operator with strings.\n",
    "#@markdown Let's observe this behavior.\n",
    "\n",
    "#@markdown 1. Create a string variable called `file_name` with the value `data/img_1`.  \n",
    "#@markdown 2. Create a string variable called `extension` with the value `.png`.\n",
    "#@markdown 3. Use the `+` operator to \"add\" these two variables behavior and store it as the variable `full_filename`.\n",
    "#@markdown 4. Output (using print or just output) `full_filename` to verify its contents.\n",
    "#@markdown 5. Comment on the behavior.\n",
    "\n",
    "#@markdown Use the next cell for your answers. Click the\n",
    "#@markdown `Show Code` button to check your answers.\n",
    "\n",
    "#1\n",
    "file_name = 'data/img_1'\n",
    "\n",
    "#2\n",
    "extension = '.png'\n",
    "\n",
    "#2\n",
    "full_filename = file_name + extension\n",
    "\n",
    "#4\n",
    "full_filename\n",
    "\n",
    "#5\n",
    "# The `+` operator on two strings has the effect of concatenating\n",
    "# them together.\n"
   ]
  },
  {
   "cell_type": "code",
   "execution_count": null,
   "metadata": {
    "id": "21Qo3cnfnqkt"
   },
   "outputs": [],
   "source": [
    "#Answers to Question 1\n"
   ]
  },
  {
   "cell_type": "code",
   "execution_count": null,
   "metadata": {
    "cellView": "form",
    "id": "ratLgf5-5S0B"
   },
   "outputs": [],
   "source": [
    "#@title Question 2: Variable Names and Strings\n",
    "#@markdown Answer the following questions by experimentation.\n",
    "#@markdown Note the errors that you get are sometimes not clear, so think about\n",
    "#@markdown them and their relation to the code you have written.\n",
    "#@markdown 1. Can a variable name start with a number?\n",
    "#@markdown 2. Can a variable name have a dash in it?\n",
    "#@markdown 3. Can a variable name have a space in it?\n",
    "#@markdown 4. Can a variable name have an underscore in it?\n",
    "\n",
    "#@markdown Use the `Show Code` button to check your answers.\n",
    "\n",
    "#1 - Variable name cannot start with number\n",
    "#0dog = 8 #(uncomment to see behavior)\n",
    "\n",
    "#2 - Variable name cannot have a dash in it\n",
    "#cat-dog = 7 #(uncomment to see behavior)\n",
    "\n",
    "#3 - Variable name cannot have a space in it\n",
    "#cat dog = 7 #(uncomment to see behavior)\n",
    "\n",
    "#4 - Variable name CAN have underscores\n",
    "cat_dog = 7"
   ]
  },
  {
   "cell_type": "markdown",
   "metadata": {
    "id": "wU1vzlPAq0bE"
   },
   "source": [
    "Use this markdown cell to answer Question 2."
   ]
  },
  {
   "cell_type": "markdown",
   "metadata": {
    "id": "8boafNuwqtbX"
   },
   "source": [
    "## Conceptual and Thought Questions"
   ]
  },
  {
   "cell_type": "code",
   "execution_count": null,
   "metadata": {
    "cellView": "form",
    "id": "_cgloc41vN5U"
   },
   "outputs": [],
   "source": [
    "#@title Question 3: Lists, conceptual\n",
    "#@markdown Earlier in the lesson, we said that you'd have to take our word for it\n",
    "#@markdown that lists offer enhanced functionality to deal with collections of related\n",
    "#@markdown objects. Then, we demonstrated `for` loops and `if` statements which leverage\n",
    "#@markdown the collection object (list) for iteration. Let's take this moment for you\n",
    "#@markdown to demonstrate for yourself the power of collections rather than individual\n",
    "#@markdown objects. Click the `Show Code` button to show additional insights after answering\n",
    "#@markdown the following questions.\n",
    "\n",
    "#@markdown 1. How would you have made separate objects for each of the courtroom\n",
    "#@markdown rooms?\n",
    "#@markdown 2. Consider that we used a `for` loop to iterate through and print each\n",
    "#@markdown of the rooms. How would we do this with separate objects?\n",
    "#@markdown 3. This was 5 rooms that we looped over. Consider this single-object approach\n",
    "#@markdown vs the collection (list) approach that we presented. What are your thoughts on\n",
    "#@markdown scaling the code to 100 rooms. For example, if you wanted to print the list of\n",
    "#@markdown rooms for all 100 rooms, what would that code look like for the single-object\n",
    "#@markdown approach vs the list approach?\n",
    "\n",
    "#1\n",
    "floor0_room0 = 'judge_chambers'\n",
    "floor0_room1 = 'jury_entrance'\n",
    "floor0_room2 = 'janitor_closet'\n",
    "floor0_room3 = 'general_entrance'\n",
    "floor0_room4 = 'gender-neutral restroom'\n",
    "\n",
    "#2\n",
    "print(floor0_room0)\n",
    "print(floor0_room1)\n",
    "print(floor0_room2)\n",
    "print(floor0_room3)\n",
    "print(floor0_room4)\n",
    "\n",
    "#3\n",
    "#The single-object approach would make us write that print statement\n",
    "#100 times for each room, and is simply terrible in terms of scaling\n",
    "#and maintaining code. In fact, only the code for creating the list\n",
    "#of rooms would change in the collections case, and the code to print\n",
    "#all of the rooms would be identical."
   ]
  },
  {
   "cell_type": "markdown",
   "metadata": {
    "id": "wU1vzlPAq0bE"
   },
   "source": [
    "Use this markdown cell to answer Question 3."
   ]
  }
 ],
 "metadata": {
  "colab": {
   "authorship_tag": "ABX9TyPDTC3d4B/CLcsQKv8VJFS5",
   "collapsed_sections": [
    "RSIS2NnG6PyP",
    "OX-7DwiOddrr",
    "lOO3dQmj9AN3",
    "wqRWwy7nAF_B",
    "eXMZeBSi4drM",
    "3Z41BmK2TOmF",
    "oICyZ1fljKwd"
   ],
   "include_colab_link": true,
   "name": "1-introduction-to-python-solns",
   "provenance": [],
   "toc_visible": true
  },
  "kernelspec": {
   "display_name": "Python 3 (ipykernel)",
   "language": "python",
   "name": "python3"
  },
  "language_info": {
   "codemirror_mode": {
    "name": "ipython",
    "version": 3
   },
   "file_extension": ".py",
   "mimetype": "text/x-python",
   "name": "python",
   "nbconvert_exporter": "python",
   "pygments_lexer": "ipython3",
   "version": "3.7.13"
  }
 },
 "nbformat": 4,
 "nbformat_minor": 4
}
